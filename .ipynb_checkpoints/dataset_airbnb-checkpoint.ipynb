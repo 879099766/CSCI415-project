{
 "cells": [
  {
   "cell_type": "code",
   "execution_count": 1,
   "metadata": {},
   "outputs": [],
   "source": [
    "# !pip install pandas numpy folium matplotlib\n",
    "\n",
    "import pandas as pd\n",
    "import numpy as np\n",
    "\n",
    "import folium\n",
    "from folium.plugins import HeatMap\n",
    "from matplotlib import pyplot as plt"
   ]
  },
  {
   "cell_type": "code",
   "execution_count": 2,
   "metadata": {},
   "outputs": [],
   "source": [
    "data = pd.read_csv(\"listings.csv\")"
   ]
  },
  {
   "cell_type": "code",
   "execution_count": 3,
   "metadata": {},
   "outputs": [],
   "source": [
    "pd.set_option('display.max_columns', len(data.columns))\n",
    "pd.set_option('display.max_row', len(data.loc[:]))"
   ]
  },
  {
   "cell_type": "code",
   "execution_count": 4,
   "metadata": {},
   "outputs": [
    {
     "data": {
      "text/plain": [
       "(45756, 16)"
      ]
     },
     "execution_count": 4,
     "metadata": {},
     "output_type": "execute_result"
    }
   ],
   "source": [
    "data.shape"
   ]
  },
  {
   "cell_type": "code",
   "execution_count": 5,
   "metadata": {
    "scrolled": true
   },
   "outputs": [
    {
     "data": {
      "text/html": [
       "<div>\n",
       "<style scoped>\n",
       "    .dataframe tbody tr th:only-of-type {\n",
       "        vertical-align: middle;\n",
       "    }\n",
       "\n",
       "    .dataframe tbody tr th {\n",
       "        vertical-align: top;\n",
       "    }\n",
       "\n",
       "    .dataframe thead th {\n",
       "        text-align: right;\n",
       "    }\n",
       "</style>\n",
       "<table border=\"1\" class=\"dataframe\">\n",
       "  <thead>\n",
       "    <tr style=\"text-align: right;\">\n",
       "      <th></th>\n",
       "      <th>id</th>\n",
       "      <th>name</th>\n",
       "      <th>host_id</th>\n",
       "      <th>host_name</th>\n",
       "      <th>neighbourhood_group</th>\n",
       "      <th>neighbourhood</th>\n",
       "      <th>latitude</th>\n",
       "      <th>longitude</th>\n",
       "      <th>room_type</th>\n",
       "      <th>price</th>\n",
       "      <th>minimum_nights</th>\n",
       "      <th>number_of_reviews</th>\n",
       "      <th>last_review</th>\n",
       "      <th>reviews_per_month</th>\n",
       "      <th>calculated_host_listings_count</th>\n",
       "      <th>availability_365</th>\n",
       "    </tr>\n",
       "  </thead>\n",
       "  <tbody>\n",
       "    <tr>\n",
       "      <th>16736</th>\n",
       "      <td>16396241</td>\n",
       "      <td>Williamsburg 2BR. Close to L train</td>\n",
       "      <td>107412747</td>\n",
       "      <td>Jazz</td>\n",
       "      <td>Brooklyn</td>\n",
       "      <td>Williamsburg</td>\n",
       "      <td>40.71058</td>\n",
       "      <td>-73.95294</td>\n",
       "      <td>Entire home/apt</td>\n",
       "      <td>164</td>\n",
       "      <td>1</td>\n",
       "      <td>177</td>\n",
       "      <td>2020-08-22</td>\n",
       "      <td>3.94</td>\n",
       "      <td>2</td>\n",
       "      <td>365</td>\n",
       "    </tr>\n",
       "    <tr>\n",
       "      <th>3482</th>\n",
       "      <td>2835159</td>\n",
       "      <td>Large studio</td>\n",
       "      <td>7915183</td>\n",
       "      <td>Alfonso</td>\n",
       "      <td>Manhattan</td>\n",
       "      <td>Midtown</td>\n",
       "      <td>40.75546</td>\n",
       "      <td>-73.96762</td>\n",
       "      <td>Entire home/apt</td>\n",
       "      <td>240</td>\n",
       "      <td>1</td>\n",
       "      <td>1</td>\n",
       "      <td>2014-05-19</td>\n",
       "      <td>0.01</td>\n",
       "      <td>1</td>\n",
       "      <td>0</td>\n",
       "    </tr>\n",
       "    <tr>\n",
       "      <th>23866</th>\n",
       "      <td>23219659</td>\n",
       "      <td>Chic Williamsburg getaway</td>\n",
       "      <td>172713193</td>\n",
       "      <td>Olivia</td>\n",
       "      <td>Brooklyn</td>\n",
       "      <td>Williamsburg</td>\n",
       "      <td>40.70757</td>\n",
       "      <td>-73.95387</td>\n",
       "      <td>Private room</td>\n",
       "      <td>178</td>\n",
       "      <td>30</td>\n",
       "      <td>140</td>\n",
       "      <td>2020-07-31</td>\n",
       "      <td>4.50</td>\n",
       "      <td>1</td>\n",
       "      <td>219</td>\n",
       "    </tr>\n",
       "    <tr>\n",
       "      <th>45739</th>\n",
       "      <td>45316196</td>\n",
       "      <td>Luxury Apartment</td>\n",
       "      <td>199338788</td>\n",
       "      <td>Missy</td>\n",
       "      <td>Manhattan</td>\n",
       "      <td>Murray Hill</td>\n",
       "      <td>40.74715</td>\n",
       "      <td>-73.97354</td>\n",
       "      <td>Entire home/apt</td>\n",
       "      <td>200</td>\n",
       "      <td>1</td>\n",
       "      <td>0</td>\n",
       "      <td>NaN</td>\n",
       "      <td>NaN</td>\n",
       "      <td>1</td>\n",
       "      <td>161</td>\n",
       "    </tr>\n",
       "    <tr>\n",
       "      <th>36977</th>\n",
       "      <td>38846643</td>\n",
       "      <td>(4RW) Awesome Chelsea Studio In Perfect Location</td>\n",
       "      <td>271275048</td>\n",
       "      <td>Isaac</td>\n",
       "      <td>Manhattan</td>\n",
       "      <td>Chelsea</td>\n",
       "      <td>40.74684</td>\n",
       "      <td>-73.99207</td>\n",
       "      <td>Entire home/apt</td>\n",
       "      <td>67</td>\n",
       "      <td>30</td>\n",
       "      <td>0</td>\n",
       "      <td>NaN</td>\n",
       "      <td>NaN</td>\n",
       "      <td>14</td>\n",
       "      <td>364</td>\n",
       "    </tr>\n",
       "  </tbody>\n",
       "</table>\n",
       "</div>"
      ],
      "text/plain": [
       "             id                                              name    host_id  \\\n",
       "16736  16396241                Williamsburg 2BR. Close to L train  107412747   \n",
       "3482    2835159                                      Large studio    7915183   \n",
       "23866  23219659                         Chic Williamsburg getaway  172713193   \n",
       "45739  45316196                                  Luxury Apartment  199338788   \n",
       "36977  38846643  (4RW) Awesome Chelsea Studio In Perfect Location  271275048   \n",
       "\n",
       "      host_name neighbourhood_group neighbourhood  latitude  longitude  \\\n",
       "16736      Jazz            Brooklyn  Williamsburg  40.71058  -73.95294   \n",
       "3482    Alfonso           Manhattan       Midtown  40.75546  -73.96762   \n",
       "23866    Olivia            Brooklyn  Williamsburg  40.70757  -73.95387   \n",
       "45739     Missy           Manhattan   Murray Hill  40.74715  -73.97354   \n",
       "36977     Isaac           Manhattan       Chelsea  40.74684  -73.99207   \n",
       "\n",
       "             room_type  price  minimum_nights  number_of_reviews last_review  \\\n",
       "16736  Entire home/apt    164               1                177  2020-08-22   \n",
       "3482   Entire home/apt    240               1                  1  2014-05-19   \n",
       "23866     Private room    178              30                140  2020-07-31   \n",
       "45739  Entire home/apt    200               1                  0         NaN   \n",
       "36977  Entire home/apt     67              30                  0         NaN   \n",
       "\n",
       "       reviews_per_month  calculated_host_listings_count  availability_365  \n",
       "16736               3.94                               2               365  \n",
       "3482                0.01                               1                 0  \n",
       "23866               4.50                               1               219  \n",
       "45739                NaN                               1               161  \n",
       "36977                NaN                              14               364  "
      ]
     },
     "execution_count": 5,
     "metadata": {},
     "output_type": "execute_result"
    }
   ],
   "source": [
    "data.sample(5)"
   ]
  },
  {
   "cell_type": "code",
   "execution_count": 6,
   "metadata": {},
   "outputs": [
    {
     "name": "stdout",
     "output_type": "stream",
     "text": [
      "2.909181309555031\n"
     ]
    }
   ],
   "source": [
    "# check the missing val % in the dataset\n",
    "missing_values_count = data.isnull().sum()\n",
    "\n",
    "# how many total missing values do we have?\n",
    "total_cells = np.product(data.shape)\n",
    "total_missing = missing_values_count.sum()\n",
    "\n",
    "# percent of data that is missing\n",
    "percent_missing = (total_missing/total_cells) * 100\n",
    "print(percent_missing)"
   ]
  },
  {
   "cell_type": "code",
   "execution_count": null,
   "metadata": {},
   "outputs": [],
   "source": [
    "# init the map\n",
    "map = folium.Map(location=[42.6884183, -77.0790249], tiles = \"openstreetmap\", control_scale=True, zoom_start=7)\n",
    "\n",
    "lat_long_list = data[['latitude', 'longitude']].groupby(['latitude', 'longitude']).sum().reset_index().values.tolist()"
   ]
  },
  {
   "cell_type": "code",
   "execution_count": null,
   "metadata": {},
   "outputs": [],
   "source": [
    "# config the map\n",
    "stationArr = HeatMap(\n",
    "    data=lat_long_list, \n",
    "    radius=8, \n",
    "    max_zoom=13, \n",
    "    # color=\"red\"\n",
    "    ).add_to(map)"
   ]
  },
  {
   "cell_type": "code",
   "execution_count": null,
   "metadata": {
    "scrolled": false
   },
   "outputs": [],
   "source": [
    "map"
   ]
  },
  {
   "cell_type": "code",
   "execution_count": null,
   "metadata": {},
   "outputs": [],
   "source": []
  },
  {
   "cell_type": "code",
   "execution_count": 8,
   "metadata": {},
   "outputs": [
    {
     "data": {
      "text/html": [
       "<div>\n",
       "<style scoped>\n",
       "    .dataframe tbody tr th:only-of-type {\n",
       "        vertical-align: middle;\n",
       "    }\n",
       "\n",
       "    .dataframe tbody tr th {\n",
       "        vertical-align: top;\n",
       "    }\n",
       "\n",
       "    .dataframe thead th {\n",
       "        text-align: right;\n",
       "    }\n",
       "</style>\n",
       "<table border=\"1\" class=\"dataframe\">\n",
       "  <thead>\n",
       "    <tr style=\"text-align: right;\">\n",
       "      <th></th>\n",
       "      <th>neighbourhood_group</th>\n",
       "      <th>id</th>\n",
       "      <th>host_id</th>\n",
       "      <th>latitude</th>\n",
       "      <th>longitude</th>\n",
       "      <th>price</th>\n",
       "      <th>minimum_nights</th>\n",
       "      <th>number_of_reviews</th>\n",
       "      <th>reviews_per_month</th>\n",
       "      <th>calculated_host_listings_count</th>\n",
       "      <th>availability_365</th>\n",
       "    </tr>\n",
       "  </thead>\n",
       "  <tbody>\n",
       "    <tr>\n",
       "      <th>0</th>\n",
       "      <td>Bronx</td>\n",
       "      <td>33078299974</td>\n",
       "      <td>163410981501</td>\n",
       "      <td>48405.907160</td>\n",
       "      <td>-8.755201e+04</td>\n",
       "      <td>109715</td>\n",
       "      <td>6619</td>\n",
       "      <td>31377</td>\n",
       "      <td>1206.82</td>\n",
       "      <td>2669</td>\n",
       "      <td>204556</td>\n",
       "    </tr>\n",
       "    <tr>\n",
       "      <th>1</th>\n",
       "      <td>Brooklyn</td>\n",
       "      <td>399774631291</td>\n",
       "      <td>1259796805649</td>\n",
       "      <td>743014.613440</td>\n",
       "      <td>-1.350569e+06</td>\n",
       "      <td>2211283</td>\n",
       "      <td>139331</td>\n",
       "      <td>436352</td>\n",
       "      <td>12343.78</td>\n",
       "      <td>45270</td>\n",
       "      <td>1877296</td>\n",
       "    </tr>\n",
       "    <tr>\n",
       "      <th>2</th>\n",
       "      <td>Manhattan</td>\n",
       "      <td>461679255738</td>\n",
       "      <td>1698625990827</td>\n",
       "      <td>824922.927094</td>\n",
       "      <td>-1.496951e+06</td>\n",
       "      <td>3906572</td>\n",
       "      <td>213116</td>\n",
       "      <td>390232</td>\n",
       "      <td>11403.55</td>\n",
       "      <td>178837</td>\n",
       "      <td>2534891</td>\n",
       "    </tr>\n",
       "    <tr>\n",
       "      <th>3</th>\n",
       "      <td>Queens</td>\n",
       "      <td>154148882428</td>\n",
       "      <td>700240014912</td>\n",
       "      <td>234041.373580</td>\n",
       "      <td>-4.244608e+05</td>\n",
       "      <td>578675</td>\n",
       "      <td>40635</td>\n",
       "      <td>161645</td>\n",
       "      <td>5693.35</td>\n",
       "      <td>45523</td>\n",
       "      <td>845498</td>\n",
       "    </tr>\n",
       "    <tr>\n",
       "      <th>4</th>\n",
       "      <td>Staten Island</td>\n",
       "      <td>8069559988</td>\n",
       "      <td>38484445645</td>\n",
       "      <td>13240.276110</td>\n",
       "      <td>-2.415744e+04</td>\n",
       "      <td>36904</td>\n",
       "      <td>1474</td>\n",
       "      <td>12658</td>\n",
       "      <td>398.33</td>\n",
       "      <td>627</td>\n",
       "      <td>62372</td>\n",
       "    </tr>\n",
       "  </tbody>\n",
       "</table>\n",
       "</div>"
      ],
      "text/plain": [
       "  neighbourhood_group            id        host_id       latitude  \\\n",
       "0               Bronx   33078299974   163410981501   48405.907160   \n",
       "1            Brooklyn  399774631291  1259796805649  743014.613440   \n",
       "2           Manhattan  461679255738  1698625990827  824922.927094   \n",
       "3              Queens  154148882428   700240014912  234041.373580   \n",
       "4       Staten Island    8069559988    38484445645   13240.276110   \n",
       "\n",
       "      longitude    price  minimum_nights  number_of_reviews  \\\n",
       "0 -8.755201e+04   109715            6619              31377   \n",
       "1 -1.350569e+06  2211283          139331             436352   \n",
       "2 -1.496951e+06  3906572          213116             390232   \n",
       "3 -4.244608e+05   578675           40635             161645   \n",
       "4 -2.415744e+04    36904            1474              12658   \n",
       "\n",
       "   reviews_per_month  calculated_host_listings_count  availability_365  \n",
       "0            1206.82                            2669            204556  \n",
       "1           12343.78                           45270           1877296  \n",
       "2           11403.55                          178837           2534891  \n",
       "3            5693.35                           45523            845498  \n",
       "4             398.33                             627             62372  "
      ]
     },
     "execution_count": 8,
     "metadata": {},
     "output_type": "execute_result"
    }
   ],
   "source": [
    "# group the neighbourhood\n",
    "neightbout_grp = data.groupby(['neighbourhood_group']).sum().reset_index()\n",
    "neightbout_grp.tail(5)"
   ]
  },
  {
   "cell_type": "code",
   "execution_count": 9,
   "metadata": {},
   "outputs": [],
   "source": [
    "def cal_avgPrice_neighbourhood():\n",
    "    # calculate the average price per neighbourhood\n",
    "    ttl_count = data.shape[0]\n",
    "    ttl_price = data[\"price\"].sum()\n",
    "    \n",
    "    global neighbour_type\n",
    "    neighbour_type = data[\"neighbourhood_group\"].unique()\n",
    "    \n",
    "    global avg_price_neighbouthood\n",
    "    avg_price_neighbouthood = []\n",
    "    \n",
    "    for neighbour in neighbour_type:\n",
    "        filt = (data[\"neighbourhood_group\"] == neighbour)\n",
    "        avg_price_neighbouthood.append(data.loc[filt][\"price\"].mean())\n",
    "\n",
    "    global avg_price_overall_neighbouthood\n",
    "    avg_price_overall_neighbouthood = ttl_price/ttl_count"
   ]
  },
  {
   "cell_type": "code",
   "execution_count": 10,
   "metadata": {},
   "outputs": [
    {
     "data": {
      "text/plain": [
       "<matplotlib.lines.Line2D at 0x7fa075641280>"
      ]
     },
     "execution_count": 10,
     "metadata": {},
     "output_type": "execute_result"
    },
    {
     "data": {
      "image/png": "[encoded data removed]",
      "text/plain": [
       "<Figure size 576x396 with 1 Axes>"
      ]
     },
     "metadata": {},
     "output_type": "display_data"
    }
   ],
   "source": [
    "cal_avgPrice_neighbourhood()\n",
    "\n",
    "width = 0.5\n",
    "\n",
    "# print(plt.style)\n",
    "\n",
    "plt.style.use('seaborn')\n",
    "\n",
    "plt.bar(neighbour_type, avg_price_neighbouthood, width=width, color=\"#008fd5\")\n",
    "\n",
    "plt.ylabel(\"Price ($)\")\n",
    "plt.xlabel(\"New York City Five Boroughs\")\n",
    "plt.title(\"Average Price Per Neighbourhood\")\n",
    "\n",
    "plt.tight_layout()\n",
    "\n",
    "plt.axhline(\n",
    "    y=round(avg_price_overall_neighbouthood, 0),\n",
    "    linewidth=2,\n",
    "    linestyle='dotted',\n",
    "    color='r',\n",
    "    label='Overall Avg Price')\n",
    "# plt.axhline(y=round(avg_price_manhattan), xmin=0.25, xmax=0.75, color='b')"
   ]
  },
  {
   "cell_type": "code",
   "execution_count": 11,
   "metadata": {
    "scrolled": true
   },
   "outputs": [
    {
     "data": {
      "text/plain": [
       "Entire home/apt    23577\n",
       "Private room       20842\n",
       "Shared room          944\n",
       "Hotel room           393\n",
       "Name: room_type, dtype: int64"
      ]
     },
     "execution_count": 11,
     "metadata": {},
     "output_type": "execute_result"
    }
   ],
   "source": [
    "data[\"room_type\"].value_counts()"
   ]
  },
  {
   "cell_type": "code",
   "execution_count": 12,
   "metadata": {},
   "outputs": [],
   "source": [
    "room_type_grp = data.groupby(\"room_type\").sum().reset_index()"
   ]
  },
  {
   "cell_type": "code",
   "execution_count": 13,
   "metadata": {},
   "outputs": [
    {
     "data": {
      "text/html": [
       "<div>\n",
       "<style scoped>\n",
       "    .dataframe tbody tr th:only-of-type {\n",
       "        vertical-align: middle;\n",
       "    }\n",
       "\n",
       "    .dataframe tbody tr th {\n",
       "        vertical-align: top;\n",
       "    }\n",
       "\n",
       "    .dataframe thead th {\n",
       "        text-align: right;\n",
       "    }\n",
       "</style>\n",
       "<table border=\"1\" class=\"dataframe\">\n",
       "  <thead>\n",
       "    <tr style=\"text-align: right;\">\n",
       "      <th></th>\n",
       "      <th>room_type</th>\n",
       "      <th>id</th>\n",
       "      <th>host_id</th>\n",
       "      <th>latitude</th>\n",
       "      <th>longitude</th>\n",
       "      <th>price</th>\n",
       "      <th>minimum_nights</th>\n",
       "      <th>number_of_reviews</th>\n",
       "      <th>reviews_per_month</th>\n",
       "      <th>calculated_host_listings_count</th>\n",
       "      <th>availability_365</th>\n",
       "    </tr>\n",
       "  </thead>\n",
       "  <tbody>\n",
       "    <tr>\n",
       "      <th>0</th>\n",
       "      <td>Entire home/apt</td>\n",
       "      <td>526475816796</td>\n",
       "      <td>1721970891191</td>\n",
       "      <td>960254.463074</td>\n",
       "      <td>-1.743734e+06</td>\n",
       "      <td>4742404</td>\n",
       "      <td>252851</td>\n",
       "      <td>539222</td>\n",
       "      <td>16032.18</td>\n",
       "      <td>162723</td>\n",
       "      <td>2855336</td>\n",
       "    </tr>\n",
       "    <tr>\n",
       "      <th>1</th>\n",
       "      <td>Hotel room</td>\n",
       "      <td>12571530453</td>\n",
       "      <td>87218693611</td>\n",
       "      <td>16012.723630</td>\n",
       "      <td>-2.907541e+04</td>\n",
       "      <td>118968</td>\n",
       "      <td>1024</td>\n",
       "      <td>8993</td>\n",
       "      <td>505.91</td>\n",
       "      <td>5080</td>\n",
       "      <td>88964</td>\n",
       "    </tr>\n",
       "    <tr>\n",
       "      <th>2</th>\n",
       "      <td>Private room</td>\n",
       "      <td>492864822074</td>\n",
       "      <td>1938711291992</td>\n",
       "      <td>848906.207690</td>\n",
       "      <td>-1.541080e+06</td>\n",
       "      <td>1897533</td>\n",
       "      <td>139762</td>\n",
       "      <td>467666</td>\n",
       "      <td>13985.69</td>\n",
       "      <td>101283</td>\n",
       "      <td>2429243</td>\n",
       "    </tr>\n",
       "    <tr>\n",
       "      <th>3</th>\n",
       "      <td>Shared room</td>\n",
       "      <td>24838460096</td>\n",
       "      <td>112657361740</td>\n",
       "      <td>38451.702990</td>\n",
       "      <td>-6.980067e+04</td>\n",
       "      <td>84244</td>\n",
       "      <td>7538</td>\n",
       "      <td>16383</td>\n",
       "      <td>522.05</td>\n",
       "      <td>3840</td>\n",
       "      <td>151070</td>\n",
       "    </tr>\n",
       "  </tbody>\n",
       "</table>\n",
       "</div>"
      ],
      "text/plain": [
       "         room_type            id        host_id       latitude     longitude  \\\n",
       "0  Entire home/apt  526475816796  1721970891191  960254.463074 -1.743734e+06   \n",
       "1       Hotel room   12571530453    87218693611   16012.723630 -2.907541e+04   \n",
       "2     Private room  492864822074  1938711291992  848906.207690 -1.541080e+06   \n",
       "3      Shared room   24838460096   112657361740   38451.702990 -6.980067e+04   \n",
       "\n",
       "     price  minimum_nights  number_of_reviews  reviews_per_month  \\\n",
       "0  4742404          252851             539222           16032.18   \n",
       "1   118968            1024               8993             505.91   \n",
       "2  1897533          139762             467666           13985.69   \n",
       "3    84244            7538              16383             522.05   \n",
       "\n",
       "   calculated_host_listings_count  availability_365  \n",
       "0                          162723           2855336  \n",
       "1                            5080             88964  \n",
       "2                          101283           2429243  \n",
       "3                            3840            151070  "
      ]
     },
     "execution_count": 13,
     "metadata": {},
     "output_type": "execute_result"
    }
   ],
   "source": [
    "room_type_grp.head()"
   ]
  },
  {
   "cell_type": "code",
   "execution_count": 29,
   "metadata": {},
   "outputs": [],
   "source": [
    "def cal_avgPrice_neighbourhood():\n",
    "    # calculate the avg price in terms of room type\n",
    "    global avg_price\n",
    "    avg_price = []\n",
    "    \n",
    "    global avail\n",
    "    avail = []\n",
    "    \n",
    "    global rm_type\n",
    "    rm_type = data[\"room_type\"].unique()\n",
    "    \n",
    "    for room in rm_type:\n",
    "        filt = (data[\"room_type\"] == room)\n",
    "        avg_price.append(round(data.loc[filt][\"price\"].mean(), 2))\n",
    "        avail.append(round(data.loc[filt][\"availability_365\"].mean()))\n",
    "\n",
    "def form_df():\n",
    "    # create a new dataframe for the room type\n",
    "    global cate_by_room\n",
    "    cate_by_room = pd.DataFrame()\n",
    "    cate_by_room[\"Room Type\"] = rm_type\n",
    "    cate_by_room[\"Avg Price ($)\"] = avg_price\n",
    "    cate_by_room[\"Avg Availability 365\"] = avail\n",
    "    cate_by_room[\"Avg Availability 365 (day)\"] = cate_by_room[\"Avg Availability 365\"].astype(int)"
   ]
  },
  {
   "cell_type": "code",
   "execution_count": 30,
   "metadata": {},
   "outputs": [
    {
     "data": {
      "text/plain": [
       "array(['Entire home/apt', 'Private room', 'Shared room', 'Hotel room'],\n",
       "      dtype=object)"
      ]
     },
     "execution_count": 30,
     "metadata": {},
     "output_type": "execute_result"
    }
   ],
   "source": [
    "data[\"room_type\"].unique()"
   ]
  },
  {
   "cell_type": "code",
   "execution_count": 31,
   "metadata": {},
   "outputs": [
    {
     "data": {
      "text/html": [
       "<div>\n",
       "<style scoped>\n",
       "    .dataframe tbody tr th:only-of-type {\n",
       "        vertical-align: middle;\n",
       "    }\n",
       "\n",
       "    .dataframe tbody tr th {\n",
       "        vertical-align: top;\n",
       "    }\n",
       "\n",
       "    .dataframe thead th {\n",
       "        text-align: right;\n",
       "    }\n",
       "</style>\n",
       "<table border=\"1\" class=\"dataframe\">\n",
       "  <thead>\n",
       "    <tr style=\"text-align: right;\">\n",
       "      <th></th>\n",
       "      <th>Room Type</th>\n",
       "      <th>Avg Price ($)</th>\n",
       "      <th>Avg Availability 365</th>\n",
       "    </tr>\n",
       "  </thead>\n",
       "  <tbody>\n",
       "    <tr>\n",
       "      <th>0</th>\n",
       "      <td>Entire home/apt</td>\n",
       "      <td>201.15</td>\n",
       "      <td>121</td>\n",
       "    </tr>\n",
       "    <tr>\n",
       "      <th>1</th>\n",
       "      <td>Private room</td>\n",
       "      <td>91.04</td>\n",
       "      <td>117</td>\n",
       "    </tr>\n",
       "    <tr>\n",
       "      <th>2</th>\n",
       "      <td>Shared room</td>\n",
       "      <td>89.24</td>\n",
       "      <td>160</td>\n",
       "    </tr>\n",
       "    <tr>\n",
       "      <th>3</th>\n",
       "      <td>Hotel room</td>\n",
       "      <td>302.72</td>\n",
       "      <td>226</td>\n",
       "    </tr>\n",
       "  </tbody>\n",
       "</table>\n",
       "</div>"
      ],
      "text/plain": [
       "         Room Type  Avg Price ($)  Avg Availability 365\n",
       "0  Entire home/apt         201.15                   121\n",
       "1     Private room          91.04                   117\n",
       "2      Shared room          89.24                   160\n",
       "3       Hotel room         302.72                   226"
      ]
     },
     "execution_count": 31,
     "metadata": {},
     "output_type": "execute_result"
    }
   ],
   "source": [
    "cal_avgPrice_neighbourhood()\n",
    "form_df()\n",
    "cate_by_room"
   ]
  },
  {
   "cell_type": "code",
   "execution_count": null,
   "metadata": {},
   "outputs": [],
   "source": []
  }
 ],
 "metadata": {
  "kernelspec": {
   "display_name": "Python 3",
   "language": "python",
   "name": "python3"
  },
  "language_info": {
   "codemirror_mode": {
    "name": "ipython",
    "version": 3
   },
   "file_extension": ".py",
   "mimetype": "text/x-python",
   "name": "python",
   "nbconvert_exporter": "python",
   "pygments_lexer": "ipython3",
   "version": "3.8.5"
  }
 },
 "nbformat": 4,
 "nbformat_minor": 4
}
